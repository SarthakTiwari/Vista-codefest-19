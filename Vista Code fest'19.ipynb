{
 "cells": [
  {
   "cell_type": "code",
   "execution_count": null,
   "metadata": {},
   "outputs": [],
   "source": [
    "import numpy as np\n",
    "import pandas as pd\n",
    "import cv2\n",
    "train=pd.read_csv(r\"C:\\Users\\HP\\Desktop\\codefest\\vista\\sample.csv\")"
   ]
  },
  {
   "cell_type": "code",
   "execution_count": null,
   "metadata": {},
   "outputs": [],
   "source": [
    "from pathlib import Path\n",
    "img_data_path = []\n",
    "for i in train['id']:\n",
    "  img_data_path.append('C:/Users/HP/Desktop/codefest/vista/' +'test/'+i)"
   ]
  },
  {
   "cell_type": "code",
   "execution_count": null,
   "metadata": {},
   "outputs": [],
   "source": [
    "cv2.imread(img_data_path[1],0)"
   ]
  },
  {
   "cell_type": "code",
   "execution_count": null,
   "metadata": {},
   "outputs": [],
   "source": [
    "X=[]\n",
    "for path in img_data_path:\n",
    "    image=cv2.resize(cv2.imread(path,0),(200,100 ))\n",
    "    image = np.expand_dims(image, axis=-1)\n",
    "    image=image/255\n",
    "    X.append(image)"
   ]
  },
  {
   "cell_type": "code",
   "execution_count": null,
   "metadata": {},
   "outputs": [],
   "source": [
    "X=np.asarray(X)\n",
    "np.save(\"C:/Users/HP/Desktop/codefest/vista/X2.npy\",X)"
   ]
  },
  {
   "cell_type": "code",
   "execution_count": null,
   "metadata": {},
   "outputs": [],
   "source": []
  },
  {
   "cell_type": "code",
   "execution_count": null,
   "metadata": {},
   "outputs": [],
   "source": [
    "import os\n",
    "\n",
    "\n",
    "\n",
    "\n",
    "from keras import utils\n",
    "from keras.datasets import mnist # dataset\n",
    "from keras.models import Sequential, Model\n",
    "from keras.layers import Dense, Dropout, LSTM, Conv2D, MaxPooling2D, Input, Bidirectional,Permute, concatenate, Add, Flatten, Reshape\n",
    "from keras.layers import Maximum\n",
    "from keras.optimizers import Adam\n",
    "import keras\n",
    "import cv2\n",
    "import matplotlib.pyplot as plt\n",
    "import keras.backend as K\n",
    "import random\n",
    "from keras.callbacks import ModelCheckpoint, ReduceLROnPlateau\n",
    "\n",
    "import numpy as np\n",
    "from keras import metrics\n",
    "from keras.models import load_model\n",
    "\n",
    "from keras.layers import Lambda, Multiply, Concatenate, UpSampling2D, Dropout, BatchNormalization, AveragePooling2D, GlobalAveragePooling2D, GlobalMaxPooling2D, Activation\n",
    "from keras import regularizers\n",
    "\n",
    "\n",
    "\n",
    "model_inp = Input(shape=(100,200,1))\n",
    "#model_in = BatchNormalization()(model_inp)\n",
    "#mul_in = MaxPooling2D(2,2)(model_inp)\n",
    "#print(model_in.shape)\n",
    "ip_feature = Conv2D(32, (3, 3), activation='relu', padding='same')(model_inp)\n",
    "ip_feature = Conv2D(16, (3, 3), activation='relu', padding='same')(ip_feature)\n",
    "ip_feature = MaxPooling2D(2,2)(ip_feature)\n",
    "\n",
    "channel = keras.backend.int_shape(ip_feature)[3]\n",
    "print(channel)\n",
    "\n",
    "avg_pool = GlobalAveragePooling2D()(ip_feature)\n",
    "avg_pool = Reshape((1,1,channel))(avg_pool)\n",
    "avg_pool = Dense(channel//4)(avg_pool)\n",
    "avg_pool = Dense(channel)(avg_pool)\n",
    "max_pool = GlobalMaxPooling2D()(ip_feature)\n",
    "max_pool = Reshape((1,1,channel))(max_pool)\n",
    "max_pool = Dense(channel//4)(max_pool)\n",
    "max_pool = Dense(channel)(max_pool)\n",
    "channel_features = Add()([avg_pool,max_pool])\n",
    "channel_fetaures = Activation('sigmoid')(channel_features)\n",
    "channel_features = Multiply()([ip_feature, channel_features])\n",
    "print(channel_features.shape)\n",
    "\n",
    "\n",
    "avg_pool_spatial = Lambda(lambda x: K.mean(x, axis=3, keepdims=True))(channel_features)\n",
    "max_pool_spatial = Lambda(lambda x: K.max(x, axis=3, keepdims=True))(channel_features)\n",
    "concat = Concatenate(axis=3)([avg_pool_spatial, max_pool_spatial])\n",
    "cbam_feature = Conv2D(filters = 1,kernel_size=3,strides=1,padding='same',activation='sigmoid')(concat)\n",
    "cbam_feature = Multiply()([channel_features, cbam_feature])\n",
    "print(cbam_feature.shape)\n",
    "\n",
    "add_inp_feature = Add()([ip_feature, cbam_feature])\n",
    "\n",
    "next_conv_block = Conv2D(filters=32, kernel_size=7, padding='same', activation='relu')(add_inp_feature)\n",
    "next_conv_block = AveragePooling2D((2,2))(next_conv_block)\n",
    "next_conv_block = Conv2D(filters=16, kernel_size=3, padding='same', activation='relu')(next_conv_block)\n",
    "next_conv_block = AveragePooling2D((2,2))(next_conv_block)\n",
    "next_conv_block = Conv2D(filters=8, kernel_size=3, padding='same', activation='relu')(next_conv_block)\n",
    "next_conv_block = MaxPooling2D((2,2))(next_conv_block)\n",
    "\n",
    "x1 = Flatten()(next_conv_block)\n",
    "#x1 = GlobalAveragePooling2D()(next_conv_block)\n",
    "\n",
    "con = Dense(128)(x1)\n",
    "#con = Dropout(0.25)(con)\n",
    "con = Dense(64)(con)\n",
    "#con = Dropout(0.25)(con)\n",
    "con = Dense(32)(con)\n",
    "\n",
    "\n",
    "# con = Conv2D(1, (3, 3), activation='relu', padding='same')(x1)\n",
    "# con = Multiply()([con,model_in])\n",
    "# con = Flatten()(con)\n",
    "\n",
    "op = Dense(15, activation='softmax')(con)\n",
    "\n",
    "model = Model(inputs=model_inp, outputs=op)\n",
    "\n",
    "\n",
    "opt = keras.optimizers.Adam(lr=1e-4, beta_1=0.9, beta_2=0.999, epsilon=None, decay=0.0, amsgrad=False)\n",
    "model.compile(loss='categorical_crossentropy', optimizer=opt, metrics=['accuracy'])\n",
    "filepath=\"C:/Users/HP/Desktop/codefest/vista/weights_attention2.hdf5\"\n",
    "checkpoint = ModelCheckpoint(filepath, monitor='val_acc', verbose=1, save_best_only=True, mode='max')\n",
    "callbacks_list = [checkpoint]"
   ]
  },
  {
   "cell_type": "code",
   "execution_count": null,
   "metadata": {},
   "outputs": [],
   "source": [
    "model.summary()"
   ]
  },
  {
   "cell_type": "code",
   "execution_count": null,
   "metadata": {},
   "outputs": [],
   "source": [
    "X=np.load(\"C:/Users/HP/Desktop/codefest/vista/X2.npy\")\n",
    "model = load_model(r'C:\\Users\\HP\\Downloads\\M1.hdf5')"
   ]
  },
  {
   "cell_type": "code",
   "execution_count": null,
   "metadata": {},
   "outputs": [],
   "source": [
    "prediction = model.predict(X)"
   ]
  },
  {
   "cell_type": "code",
   "execution_count": null,
   "metadata": {},
   "outputs": [],
   "source": [
    "df_results_csv = pd.DataFrame({'id':train['id'],\n",
    "                               'label':np.argmax(prediction,axis=1)})\n",
    " \n",
    "df_results_csv.to_csv(\"C:/Users/HP/Desktop/codefest/vista/sample2.csv\", index=False)"
   ]
  },
  {
   "cell_type": "code",
   "execution_count": null,
   "metadata": {},
   "outputs": [],
   "source": []
  },
  {
   "cell_type": "code",
   "execution_count": null,
   "metadata": {},
   "outputs": [],
   "source": []
  },
  {
   "cell_type": "code",
   "execution_count": null,
   "metadata": {},
   "outputs": [],
   "source": []
  },
  {
   "cell_type": "code",
   "execution_count": null,
   "metadata": {},
   "outputs": [],
   "source": [
    "import glob\n",
    "cv_img = []\n",
    "for img in glob.glob(\"C:/Users/HP/Desktop/codefest/vista/test/*.png\"):\n",
    "    n= cv2.imread(img,0)\n",
    "    n= cv2.resize(n,(200,100))\n",
    "    n=np.expand_dims(n,axis=-1)\n",
    "    cv_img.append(n)"
   ]
  },
  {
   "cell_type": "code",
   "execution_count": null,
   "metadata": {},
   "outputs": [],
   "source": [
    "cv_img=np.asarray(cv_img)"
   ]
  },
  {
   "cell_type": "code",
   "execution_count": null,
   "metadata": {},
   "outputs": [],
   "source": [
    "cv_img.shape"
   ]
  },
  {
   "cell_type": "code",
   "execution_count": null,
   "metadata": {},
   "outputs": [],
   "source": [
    "cv_img=cv_img/255"
   ]
  },
  {
   "cell_type": "code",
   "execution_count": null,
   "metadata": {},
   "outputs": [],
   "source": [
    "cv_img[2]"
   ]
  },
  {
   "cell_type": "code",
   "execution_count": null,
   "metadata": {},
   "outputs": [],
   "source": [
    "np.save(\"C:/Users/HP/Desktop/codefest/vista/X1.npy\",cv_img)"
   ]
  },
  {
   "cell_type": "code",
   "execution_count": null,
   "metadata": {},
   "outputs": [],
   "source": []
  }
 ],
 "metadata": {
  "kernelspec": {
   "display_name": "Python 3",
   "language": "python",
   "name": "python3"
  },
  "language_info": {
   "codemirror_mode": {
    "name": "ipython",
    "version": 3
   },
   "file_extension": ".py",
   "mimetype": "text/x-python",
   "name": "python",
   "nbconvert_exporter": "python",
   "pygments_lexer": "ipython3",
   "version": "3.6.5"
  }
 },
 "nbformat": 4,
 "nbformat_minor": 2
}
